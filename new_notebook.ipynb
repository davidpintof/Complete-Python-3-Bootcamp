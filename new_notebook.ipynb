{
  "nbformat": 4,
  "nbformat_minor": 0,
  "metadata": {
    "kernelspec": {
      "display_name": "Python 3",
      "language": "python",
      "name": "python3"
    },
    "language_info": {
      "codemirror_mode": {
        "name": "ipython",
        "version": 3
      },
      "file_extension": ".py",
      "mimetype": "text/x-python",
      "name": "python",
      "nbconvert_exporter": "python",
      "pygments_lexer": "ipython3",
      "version": "3.7.6"
    },
    "colab": {
      "name": "new_notebook.ipynb",
      "provenance": [],
      "include_colab_link": true
    }
  },
  "cells": [
    {
      "cell_type": "markdown",
      "metadata": {
        "id": "view-in-github",
        "colab_type": "text"
      },
      "source": [
        "<a href=\"https://colab.research.google.com/github/davidpintof/Complete-Python-3-Bootcamp/blob/master/new_notebook.ipynb\" target=\"_parent\"><img src=\"https://colab.research.google.com/assets/colab-badge.svg\" alt=\"Open In Colab\"/></a>"
      ]
    },
    {
      "cell_type": "markdown",
      "metadata": {
        "id": "dHzVZQ8mjuqT"
      },
      "source": [
        "## Practice Markdown"
      ]
    },
    {
      "cell_type": "markdown",
      "metadata": {
        "id": "3dW6kY4KjuqV"
      },
      "source": [
        "This notebook lets you experiment with producing repeatable technical documentation.  Use this notebook to do the following actions:\n",
        "\n",
        "* Create a code cell and print a Python Hello World statement:  `print(\"hello world\")`\n",
        "* Create a Markdown Cell and add a Title using `#` and then a statement using plain text.  You can looks at the source code for this cell to get an idea of how to use Markdown.\n",
        "* Take some ideas from the [Master Markdown Github Guide](https://guides.github.com/features/mastering-markdown/) and implement them here.\n",
        "* Download this notebook as a `.ipynb` file and check into a Github Project.  You can [see an example here](https://github.com/noahgift/duke-coursera-ccf-lab1/blob/main/Practice-Markdown.ipynb).\n",
        "* Open your notebook in Google Colab and save it into the same Github Project.  You can [see an example here](https://github.com/noahgift/duke-coursera-ccf-lab1/blob/main/Practice_Markdown_with_colab.ipynb).\n"
      ]
    },
    {
      "cell_type": "markdown",
      "metadata": {
        "id": "7TeBurSIjuqX"
      },
      "source": [
        "# David´s Test"
      ]
    },
    {
      "cell_type": "markdown",
      "metadata": {
        "id": "vOo3pFFKjuqY"
      },
      "source": [
        "## Subtitle"
      ]
    },
    {
      "cell_type": "markdown",
      "metadata": {
        "id": "mzx7K1W5juqZ"
      },
      "source": [
        "### Third Level"
      ]
    },
    {
      "cell_type": "markdown",
      "metadata": {
        "id": "t1qPPob8juqa"
      },
      "source": [
        "*Italic text*"
      ]
    },
    {
      "cell_type": "markdown",
      "metadata": {
        "id": "49R24Bwyjuqa"
      },
      "source": [
        "_This is also italic?_\n",
        "**This will be bold**\n",
        "__and so will be this one__\n",
        "_Combining **Things** and merged_"
      ]
    },
    {
      "cell_type": "markdown",
      "metadata": {
        "id": "5XDJheIZjuqb"
      },
      "source": [
        "* Item 1\n",
        "* Item 2\n",
        "    * Item 2a\n",
        "    * Item 2b"
      ]
    },
    {
      "cell_type": "markdown",
      "metadata": {
        "id": "hWE66zopjuqc"
      },
      "source": [
        "1. Another item\n",
        "1. other\n",
        "1. and another\n",
        "    1. indexed\n",
        "    1. second"
      ]
    },
    {
      "cell_type": "markdown",
      "metadata": {
        "id": "gYVwgN57juqd"
      },
      "source": [
        "![GitHub Logo](/images/logo.png)\n",
        "Format: ![Alt Text](url)"
      ]
    },
    {
      "cell_type": "markdown",
      "metadata": {
        "id": "AJpkpeHBjuqe"
      },
      "source": [
        "http://github.com - This is automatic!\n",
        "[This is embedded GitHub](http://github.com)"
      ]
    },
    {
      "cell_type": "markdown",
      "metadata": {
        "id": "JCFQQs_pjuqf"
      },
      "source": [
        "As Kanye West said:\n",
        "\n",
        "> We're living the future so\n",
        "> the present is our past."
      ]
    },
    {
      "cell_type": "markdown",
      "metadata": {
        "id": "_9wpBNOCjuqf"
      },
      "source": [
        "I think you should use an\n",
        "`<addr>` element here instead."
      ]
    },
    {
      "cell_type": "code",
      "metadata": {
        "id": "C6_NIffxjuqg",
        "outputId": "5b235fc3-802d-49a9-a13a-271b5d4174b9"
      },
      "source": [
        "print(\"hello world\")"
      ],
      "execution_count": null,
      "outputs": [
        {
          "output_type": "stream",
          "text": [
            "hello world\n"
          ],
          "name": "stdout"
        }
      ]
    },
    {
      "cell_type": "markdown",
      "metadata": {
        "id": "cbSt9BPfjuqj"
      },
      "source": [
        "```javascript\n",
        "function fancyAlert(arg) {\n",
        "  if(arg) {\n",
        "    $.facebox({div:'#foo'})\n",
        "  }\n",
        "}\n",
        "```"
      ]
    },
    {
      "cell_type": "markdown",
      "metadata": {
        "id": "ur6qKQ2Vjuqk"
      },
      "source": [
        "    function fancyAlert(arg) {\n",
        "      if(arg) {\n",
        "        $.facebox({div:'#foo'})\n",
        "      }\n",
        "    }"
      ]
    },
    {
      "cell_type": "markdown",
      "metadata": {
        "id": "hUokOQPajuqk"
      },
      "source": [
        "def foo():\n",
        "    if not bar:\n",
        "        return True"
      ]
    },
    {
      "cell_type": "markdown",
      "metadata": {
        "id": "XR1KVAGDjuql"
      },
      "source": [
        "- [x] @mentions, #refs, [links](), **formatting**, and <del>tags</del> supported\n",
        "- [x] list syntax required (any unordered or ordered list supported)\n",
        "- [x] this is a complete item\n",
        "- [ ] this is an incomplete item"
      ]
    },
    {
      "cell_type": "markdown",
      "metadata": {
        "id": "jgY9wGIkjuql"
      },
      "source": [
        "First Header | Second Header\n",
        "------------ | -------------\n",
        "Content from cell 1 | Content from cell 2\n",
        "Content in the first column | Content in the second column"
      ]
    },
    {
      "cell_type": "markdown",
      "metadata": {
        "id": "tfEslufGjuqm"
      },
      "source": [
        "16c999e8c71134401a78d4d46435517b2271d6ac\n",
        "mojombo@16c999e8c71134401a78d4d46435517b2271d6ac\n",
        "mojombo/github-flavored-markdown@16c999e8c71134401a78d4d46435517b2271d6ac"
      ]
    },
    {
      "cell_type": "markdown",
      "metadata": {
        "id": "LE-EPFKhjuqm"
      },
      "source": [
        "#1\n",
        "mojombo#1\n",
        "mojombo/github-flavored-markdown#1"
      ]
    },
    {
      "cell_type": "markdown",
      "metadata": {
        "id": "moqz8q-7juqn"
      },
      "source": [
        "@depintof"
      ]
    },
    {
      "cell_type": "markdown",
      "metadata": {
        "id": "l_b9SeI1juqn"
      },
      "source": [
        "Any word wrapped with two tildes (like ~~this~~) will appear crossed out."
      ]
    }
  ]
}